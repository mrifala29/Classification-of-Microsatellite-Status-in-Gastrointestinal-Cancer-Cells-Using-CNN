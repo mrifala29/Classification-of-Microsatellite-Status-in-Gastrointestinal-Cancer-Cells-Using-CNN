{
 "cells": [
  {
   "cell_type": "markdown",
   "metadata": {},
   "source": [
    "## **Library**"
   ]
  },
  {
   "cell_type": "code",
   "execution_count": 1,
   "metadata": {},
   "outputs": [],
   "source": [
    "import os\n",
    "import shutil\n",
    "import zipfile\n",
    "\n",
    "import random\n",
    "from shutil import move\n",
    "\n",
    "import matplotlib.pyplot as plt\n",
    "import matplotlib.image as mpimg\n",
    "\n",
    "import cv2\n",
    "import numpy as np\n",
    "\n",
    "from sklearn.preprocessing import LabelEncoder\n",
    "\n",
    "from keras.preprocessing.image import ImageDataGenerator\n",
    "\n",
    "from tensorflow.keras.models import Sequential\n",
    "from tensorflow.keras.layers import InputLayer, Dense, Conv2D, MaxPool2D, Flatten, GlobalMaxPool2D, AvgPool2D, GlobalAvgPool2D, BatchNormalization, Dropout\n",
    "\n",
    "from keras.utils.vis_utils import plot_model\n",
    "from PIL import Image"
   ]
  },
  {
   "cell_type": "markdown",
   "metadata": {},
   "source": [
    "## **Cek Data**"
   ]
  },
  {
   "cell_type": "code",
   "execution_count": 2,
   "metadata": {},
   "outputs": [
    {
     "name": "stdout",
     "output_type": "stream",
     "text": [
      "Total Data Train MSI   : 50285\n",
      "Total Data Train MSS   : 50285\n",
      "\n",
      "\n",
      "Nama File MSI          : ['blk-AAAAQLQYEQED-TCGA-D7-A4YV-01Z-00-DX1.png']\n",
      "Nama File MSS          : ['blk-AAAAEHNFIMQT-TCGA-HU-A4H6-01Z-00-DX1.png']\n"
     ]
    }
   ],
   "source": [
    "#tanpa preprocessing\n",
    "base_dataset = 'D:/Rifal/Dataset/Raw/STAD/'\n",
    "\n",
    "# preprocessing\n",
    "# base_dataset = 'D:/Rifal/Dataset/Preprocessing/CRC/'\n",
    "\n",
    "msi = base_dataset+'MSIMUT'\n",
    "mss = base_dataset+'MSS'\n",
    "\n",
    "trainMSI = os.listdir(msi)\n",
    "trainMSS = os.listdir(mss)\n",
    "print(\"Total Data Train MSI   :\",len(trainMSI))\n",
    "print(\"Total Data Train MSS   :\",len(trainMSS))\n",
    "\n",
    "print(\"\\n\")\n",
    "\n",
    "print(\"Nama File MSI          :\",trainMSI[:1])\n",
    "print(\"Nama File MSS          :\",trainMSS[:1])"
   ]
  },
  {
   "cell_type": "markdown",
   "metadata": {},
   "source": [
    "## **Split Data**"
   ]
  },
  {
   "cell_type": "code",
   "execution_count": 3,
   "metadata": {},
   "outputs": [],
   "source": [
    "# !pip install split-folders\n",
    "# import splitfolders\n",
    "\n",
    "# splitfolders.ratio('D:/Rifal/Dataset/Preprocessing/CRC/', output='D:/Rifal/Preprocessing/CRC/',\n",
    "#                    seed=1308, ratio=(.8, .2), group_prefix=None)"
   ]
  },
  {
   "cell_type": "markdown",
   "metadata": {},
   "source": [
    "## **Cek Data**"
   ]
  },
  {
   "cell_type": "code",
   "execution_count": 4,
   "metadata": {},
   "outputs": [],
   "source": [
    "# tanpa preprocessing\n",
    "base_dataset = 'D:/Rifal/Dataset/STAD/'\n",
    "\n",
    "#preprocessing\n",
    "# base_dataset = 'D:/Rifal/Preprocessing/CRC/'\n",
    "\n",
    "train_dir = base_dataset+'train'\n",
    "# test_dir = base_dataset+'test'\n",
    "val_dir = base_dataset+'val'"
   ]
  },
  {
   "cell_type": "code",
   "execution_count": 5,
   "metadata": {},
   "outputs": [
    {
     "name": "stdout",
     "output_type": "stream",
     "text": [
      "Total Data Train MSI   :  40228\n",
      "Total Data Train MSS   :  40228\n",
      "\n",
      "Total Data Val MSI   :  10057\n",
      "Total Data Val MSS   :  10057\n"
     ]
    }
   ],
   "source": [
    "trainMSI = os.listdir(train_dir+\"/MSIMUT\")\n",
    "trainMSS = os.listdir(train_dir+\"/MSS\")\n",
    "print(\"Total Data Train MSI   : \",len(trainMSI))\n",
    "print(\"Total Data Train MSS   : \",len(trainMSS))\n",
    "\n",
    "print(\"\")\n",
    "valMSI = os.listdir(val_dir+\"/MSIMUT\")\n",
    "valMSS = os.listdir(val_dir+\"/MSS\")\n",
    "print(\"Total Data Val MSI   : \",len(valMSI))\n",
    "print(\"Total Data Val MSS   : \",len(valMSS))\n",
    "\n",
    "train_length = len(trainMSI) + len(trainMSS)\n",
    "val_length = len(valMSI) + len(valMSS)\n",
    "\n",
    "# print(\"\")\n",
    "# testMSI = os.listdir(test_dir+\"/MSIMUT\")\n",
    "# testMSS = os.listdir(test_dir+\"/MSS\")\n",
    "# print(\"Total Data Test MSI   : \",len(testMSI))\n",
    "# print(\"Total Data Test MSS   : \",len(testMSS))"
   ]
  },
  {
   "cell_type": "markdown",
   "metadata": {},
   "source": [
    "## **Preprocessing Data**"
   ]
  },
  {
   "cell_type": "code",
   "execution_count": 6,
   "metadata": {},
   "outputs": [],
   "source": [
    "train_datagen = ImageDataGenerator(\n",
    "                    rescale = 1./255,\n",
    "                    rotation_range = 180,\n",
    "                    horizontal_flip = True,\n",
    "                    vertical_flip = True,\n",
    "                    zoom_range = 0.1,\n",
    "                    width_shift_range = 0.1,\n",
    "                    height_shift_range = 0.1,\n",
    "                    fill_mode = 'reflect')\n",
    "\n",
    "val_datagen = ImageDataGenerator(\n",
    "                    rescale = 1./255,\n",
    "                    rotation_range = 180,\n",
    "                    horizontal_flip = True,\n",
    "                    vertical_flip = True,\n",
    "                    zoom_range = 0.1,\n",
    "                    width_shift_range = 0.1,\n",
    "                    height_shift_range = 0.1,\n",
    "                    fill_mode = 'reflect')"
   ]
  },
  {
   "cell_type": "code",
   "execution_count": 7,
   "metadata": {},
   "outputs": [
    {
     "name": "stdout",
     "output_type": "stream",
     "text": [
      "Found 80456 images belonging to 2 classes.\n",
      "Found 20114 images belonging to 2 classes.\n"
     ]
    }
   ],
   "source": [
    "batch_size = 32\n",
    "\n",
    "train_generator = train_datagen.flow_from_directory(\n",
    "        train_dir,\n",
    "        target_size = (224, 224),\n",
    "        batch_size = batch_size,\n",
    "        class_mode = 'binary')\n",
    "\n",
    "validation_generator = val_datagen.flow_from_directory(\n",
    "        val_dir,\n",
    "        target_size = (224, 224),\n",
    "        batch_size = batch_size,\n",
    "#         shuffle=False,\n",
    "        class_mode = 'binary')"
   ]
  },
  {
   "cell_type": "markdown",
   "metadata": {},
   "source": [
    "## Skenario 3 Model VGG19 Lite + Augmentasi Tanpa DAPL"
   ]
  },
  {
   "cell_type": "code",
   "execution_count": 8,
   "metadata": {},
   "outputs": [],
   "source": [
    "import tensorflow as tf"
   ]
  },
  {
   "cell_type": "code",
   "execution_count": 9,
   "metadata": {},
   "outputs": [],
   "source": [
    "# Model Scenario Kedua\n",
    "model = tf.keras.models.Sequential([\n",
    "    \n",
    "    tf.keras.layers.Conv2D(64, (3,3), activation='relu', padding='same', input_shape=(224, 224, 3)),\n",
    "    tf.keras.layers.BatchNormalization(),\n",
    "    tf.keras.layers.AveragePooling2D((2,2), padding='same'),\n",
    "    \n",
    "    tf.keras.layers.Conv2D(128, (3,3), strides=1, padding='same', activation='relu'),\n",
    "    tf.keras.layers.BatchNormalization(),\n",
    "    tf.keras.layers.AveragePooling2D((2,2), padding='same'),\n",
    "    \n",
    "    tf.keras.layers.Conv2D(256, (3,3), strides=1, padding='same', activation='relu'),\n",
    "    tf.keras.layers.BatchNormalization(),\n",
    "    tf.keras.layers.AveragePooling2D((2,2), padding='same'),\n",
    "    tf.keras.layers.Conv2D(256, (3,3), strides=1, padding='same', activation='relu'),\n",
    "    tf.keras.layers.BatchNormalization(),\n",
    "    tf.keras.layers.AveragePooling2D((2,2), padding='same'),\n",
    "    \n",
    "    tf.keras.layers.Conv2D(512, (3,3), strides=1, padding='same', activation='relu'),\n",
    "    tf.keras.layers.BatchNormalization(),\n",
    "    tf.keras.layers.AveragePooling2D((2,2), padding='same'),\n",
    "    tf.keras.layers.Conv2D(512, (3,3), strides=1, padding='same', activation='relu'),\n",
    "    tf.keras.layers.BatchNormalization(),\n",
    "    tf.keras.layers.AveragePooling2D((2,2), padding='same'),\n",
    "    tf.keras.layers.Conv2D(512, (3,3), strides=1, padding='same', activation='relu'),\n",
    "    tf.keras.layers.BatchNormalization(),\n",
    "    tf.keras.layers.AveragePooling2D((2,2), padding='same'),\n",
    "    tf.keras.layers.Conv2D(512, (3,3), strides=1, padding='same', activation='relu'),\n",
    "    tf.keras.layers.BatchNormalization(),\n",
    "    tf.keras.layers.AveragePooling2D((2,2), padding='same'),\n",
    "    \n",
    "    tf.keras.layers.GlobalAveragePooling2D(),\n",
    "    tf.keras.layers.Flatten(),\n",
    "    tf.keras.layers.Dropout(0.25),\n",
    "    tf.keras.layers.Dense(4096, activation='relu'),\n",
    "    tf.keras.layers.Dense(4096, activation='relu'),\n",
    "    tf.keras.layers.Dense(1000, activation='relu'),\n",
    "    tf.keras.layers.Dense(1, activation='sigmoid')\n",
    "])"
   ]
  },
  {
   "cell_type": "code",
   "execution_count": 10,
   "metadata": {},
   "outputs": [],
   "source": [
    "from tensorflow.keras.callbacks import EarlyStopping, ModelCheckpoint, LearningRateScheduler, ReduceLROnPlateau\n",
    "\n",
    "model.compile(loss='binary_crossentropy',\n",
    "              optimizer=tf.optimizers.SGD(lr=0.0001),\n",
    "              metrics=['accuracy'])\n",
    "\n",
    "\n",
    "\n",
    "EarlyStop = EarlyStopping(\n",
    "    monitor='val_accuracy',\n",
    "    min_delta=0, \n",
    "    patience=4, \n",
    "    verbose=1,\n",
    "    mode='auto', \n",
    "    baseline=None, \n",
    "    restore_best_weights=True\n",
    ")\n",
    "\n",
    "\n",
    "filepath = '/Rifal/Model/STAD/Evaluate/100%_STAD_Evaluate2.h5'\n",
    "\n",
    "CheckPoint = ModelCheckpoint(\n",
    "    filepath=filepath, \n",
    "    monitor='val_accuracy', \n",
    "    verbose=1, \n",
    "    save_best_only=True, \n",
    "    mode='auto'\n",
    ")\n",
    "\n",
    "\n",
    "# initial_lrate = 0.0001\n",
    "# def time_decay(epoch, initial_lrate):\n",
    "#     decay_rate = 0.00001\n",
    "#     new_lrate = initial_lrate/(1+decay_rate*epoch)\n",
    "#     return new_lrate\n",
    "\n",
    "# LRSD = LearningRateScheduler(time_decay,verbose=1)\n",
    "\n",
    "\n",
    "def scheduler(epoch, lr):\n",
    "    if (epoch < 15):\n",
    "        return lr\n",
    "    else:\n",
    "        return lr * tf.math.exp(-0.04)\n",
    "\n",
    "LRS = tf.keras.callbacks.LearningRateScheduler(scheduler,verbose=1)\n",
    "\n",
    "\n",
    "RLP = ReduceLROnPlateau(monitor='val_accuracy', \n",
    "                              mode='auto',\n",
    "                              factor=0.6,\n",
    "                              patience=2, \n",
    "                              min_lr=0.00001,\n",
    "                              cooldown=2,\n",
    "                              verbose=1)\n",
    "\n",
    "callback = [\n",
    "    CheckPoint,\n",
    "    EarlyStop,\n",
    "#     LRSD,\n",
    "    LRS,\n",
    "    RLP\n",
    "] \n"
   ]
  },
  {
   "cell_type": "code",
   "execution_count": 11,
   "metadata": {
    "scrolled": true
   },
   "outputs": [
    {
     "name": "stdout",
     "output_type": "stream",
     "text": [
      "Epoch 1/50\n",
      "\n",
      "Epoch 00001: LearningRateScheduler reducing learning rate to 9.999999747378752e-05.\n",
      "2514/2514 [==============================] - 2303s 912ms/step - loss: 0.6779 - accuracy: 0.5743 - val_loss: 0.6436 - val_accuracy: 0.6505\n",
      "\n",
      "Epoch 00001: val_accuracy improved from -inf to 0.65049, saving model to /Rifal/Model/STAD/Evaluate\\100%_STAD_Evaluate2.h5\n",
      "Epoch 2/50\n",
      "\n",
      "Epoch 00002: LearningRateScheduler reducing learning rate to 9.999999747378752e-05.\n",
      "2514/2514 [==============================] - 800s 318ms/step - loss: 0.6422 - accuracy: 0.6459 - val_loss: 0.6183 - val_accuracy: 0.6741\n",
      "\n",
      "Epoch 00002: val_accuracy improved from 0.65049 to 0.67406, saving model to /Rifal/Model/STAD/Evaluate\\100%_STAD_Evaluate2.h5\n",
      "Epoch 3/50\n",
      "\n",
      "Epoch 00003: LearningRateScheduler reducing learning rate to 9.999999747378752e-05.\n",
      "2514/2514 [==============================] - 956s 380ms/step - loss: 0.6200 - accuracy: 0.6702 - val_loss: 0.5978 - val_accuracy: 0.6952\n",
      "\n",
      "Epoch 00003: val_accuracy improved from 0.67406 to 0.69524, saving model to /Rifal/Model/STAD/Evaluate\\100%_STAD_Evaluate2.h5\n",
      "Epoch 4/50\n",
      "\n",
      "Epoch 00004: LearningRateScheduler reducing learning rate to 9.999999747378752e-05.\n",
      "2514/2514 [==============================] - 1164s 463ms/step - loss: 0.5989 - accuracy: 0.6914 - val_loss: 0.5831 - val_accuracy: 0.7015\n",
      "\n",
      "Epoch 00004: val_accuracy improved from 0.69524 to 0.70145, saving model to /Rifal/Model/STAD/Evaluate\\100%_STAD_Evaluate2.h5\n",
      "Epoch 5/50\n",
      "\n",
      "Epoch 00005: LearningRateScheduler reducing learning rate to 9.999999747378752e-05.\n",
      "2514/2514 [==============================] - 1346s 535ms/step - loss: 0.5819 - accuracy: 0.7040 - val_loss: 0.5636 - val_accuracy: 0.7241\n",
      "\n",
      "Epoch 00005: val_accuracy improved from 0.70145 to 0.72412, saving model to /Rifal/Model/STAD/Evaluate\\100%_STAD_Evaluate2.h5\n",
      "Epoch 6/50\n",
      "\n",
      "Epoch 00006: LearningRateScheduler reducing learning rate to 9.999999747378752e-05.\n",
      "2514/2514 [==============================] - 1564s 622ms/step - loss: 0.5668 - accuracy: 0.7168 - val_loss: 0.5504 - val_accuracy: 0.7313\n",
      "\n",
      "Epoch 00006: val_accuracy improved from 0.72412 to 0.73128, saving model to /Rifal/Model/STAD/Evaluate\\100%_STAD_Evaluate2.h5\n",
      "Epoch 7/50\n",
      "\n",
      "Epoch 00007: LearningRateScheduler reducing learning rate to 9.999999747378752e-05.\n",
      "2514/2514 [==============================] - 1978s 787ms/step - loss: 0.5564 - accuracy: 0.7231 - val_loss: 0.5384 - val_accuracy: 0.7380\n",
      "\n",
      "Epoch 00007: val_accuracy improved from 0.73128 to 0.73804, saving model to /Rifal/Model/STAD/Evaluate\\100%_STAD_Evaluate2.h5\n",
      "Epoch 8/50\n",
      "\n",
      "Epoch 00008: LearningRateScheduler reducing learning rate to 9.999999747378752e-05.\n",
      "2514/2514 [==============================] - 2359s 938ms/step - loss: 0.5440 - accuracy: 0.7318 - val_loss: 0.5325 - val_accuracy: 0.7417\n",
      "\n",
      "Epoch 00008: val_accuracy improved from 0.73804 to 0.74167, saving model to /Rifal/Model/STAD/Evaluate\\100%_STAD_Evaluate2.h5\n",
      "Epoch 9/50\n",
      "\n",
      "Epoch 00009: LearningRateScheduler reducing learning rate to 9.999999747378752e-05.\n",
      "2514/2514 [==============================] - 2658s 1s/step - loss: 0.5335 - accuracy: 0.7407 - val_loss: 0.5271 - val_accuracy: 0.7495\n",
      "\n",
      "Epoch 00009: val_accuracy improved from 0.74167 to 0.74953, saving model to /Rifal/Model/STAD/Evaluate\\100%_STAD_Evaluate2.h5\n",
      "Epoch 10/50\n",
      "\n",
      "Epoch 00010: LearningRateScheduler reducing learning rate to 9.999999747378752e-05.\n",
      "2514/2514 [==============================] - 3000s 1s/step - loss: 0.5263 - accuracy: 0.7465 - val_loss: 0.5246 - val_accuracy: 0.7460\n",
      "\n",
      "Epoch 00010: val_accuracy did not improve from 0.74953\n",
      "Epoch 11/50\n",
      "\n",
      "Epoch 00011: LearningRateScheduler reducing learning rate to 9.999999747378752e-05.\n",
      "2514/2514 [==============================] - 2971s 1s/step - loss: 0.5165 - accuracy: 0.7502 - val_loss: 0.5385 - val_accuracy: 0.7275\n",
      "\n",
      "Epoch 00011: val_accuracy did not improve from 0.74953\n",
      "\n",
      "Epoch 00011: ReduceLROnPlateau reducing learning rate to 5.999999848427251e-05.\n",
      "Epoch 12/50\n",
      "\n",
      "Epoch 00012: LearningRateScheduler reducing learning rate to 5.999999848427251e-05.\n",
      "2514/2514 [==============================] - 3263s 1s/step - loss: 0.5114 - accuracy: 0.7539 - val_loss: 0.4993 - val_accuracy: 0.7619\n",
      "\n",
      "Epoch 00012: val_accuracy improved from 0.74953 to 0.76186, saving model to /Rifal/Model/STAD/Evaluate\\100%_STAD_Evaluate2.h5\n",
      "Epoch 13/50\n",
      "\n",
      "Epoch 00013: LearningRateScheduler reducing learning rate to 5.999999848427251e-05.\n",
      "2514/2514 [==============================] - 3557s 1s/step - loss: 0.5009 - accuracy: 0.7585 - val_loss: 0.5085 - val_accuracy: 0.7586\n",
      "\n",
      "Epoch 00013: val_accuracy did not improve from 0.76186\n",
      "Epoch 14/50\n",
      "\n",
      "Epoch 00014: LearningRateScheduler reducing learning rate to 5.999999848427251e-05.\n",
      "2514/2514 [==============================] - 3792s 2s/step - loss: 0.4982 - accuracy: 0.7605 - val_loss: 0.5286 - val_accuracy: 0.7460\n",
      "\n",
      "Epoch 00014: val_accuracy did not improve from 0.76186\n",
      "\n",
      "Epoch 00014: ReduceLROnPlateau reducing learning rate to 3.599999909056351e-05.\n",
      "Epoch 15/50\n",
      "\n",
      "Epoch 00015: LearningRateScheduler reducing learning rate to 3.599999763537198e-05.\n",
      "2514/2514 [==============================] - 4019s 2s/step - loss: 0.4927 - accuracy: 0.7645 - val_loss: 0.4816 - val_accuracy: 0.7776\n",
      "\n",
      "Epoch 00015: val_accuracy improved from 0.76186 to 0.77762, saving model to /Rifal/Model/STAD/Evaluate\\100%_STAD_Evaluate2.h5\n",
      "Epoch 16/50\n",
      "\n",
      "Epoch 00016: LearningRateScheduler reducing learning rate to tf.Tensor(3.458842e-05, shape=(), dtype=float32).\n",
      "2514/2514 [==============================] - 4221s 2s/step - loss: 0.4903 - accuracy: 0.7674 - val_loss: 0.4835 - val_accuracy: 0.7710\n",
      "\n",
      "Epoch 00016: val_accuracy did not improve from 0.77762\n",
      "Epoch 17/50\n",
      "\n",
      "Epoch 00017: LearningRateScheduler reducing learning rate to tf.Tensor(3.323219e-05, shape=(), dtype=float32).\n",
      "2514/2514 [==============================] - 4323s 2s/step - loss: 0.4907 - accuracy: 0.7656 - val_loss: 0.4846 - val_accuracy: 0.7744\n",
      "\n",
      "Epoch 00017: val_accuracy did not improve from 0.77762\n",
      "\n",
      "Epoch 00017: ReduceLROnPlateau reducing learning rate to 1.9939314370276406e-05.\n",
      "Epoch 18/50\n",
      "\n",
      "Epoch 00018: LearningRateScheduler reducing learning rate to tf.Tensor(1.9157484e-05, shape=(), dtype=float32).\n",
      "2514/2514 [==============================] - 4674s 2s/step - loss: 0.4883 - accuracy: 0.7666 - val_loss: 0.4732 - val_accuracy: 0.7814\n",
      "\n",
      "Epoch 00018: val_accuracy improved from 0.77762 to 0.78145, saving model to /Rifal/Model/STAD/Evaluate\\100%_STAD_Evaluate2.h5\n",
      "Epoch 19/50\n",
      "\n",
      "Epoch 00019: LearningRateScheduler reducing learning rate to tf.Tensor(1.8406308e-05, shape=(), dtype=float32).\n",
      "2514/2514 [==============================] - 4859s 2s/step - loss: 0.4852 - accuracy: 0.7682 - val_loss: 0.4729 - val_accuracy: 0.7812\n",
      "\n",
      "Epoch 00019: val_accuracy did not improve from 0.78145\n",
      "Epoch 20/50\n",
      "\n",
      "Epoch 00020: LearningRateScheduler reducing learning rate to tf.Tensor(1.7684588e-05, shape=(), dtype=float32).\n",
      "2514/2514 [==============================] - 5095s 2s/step - loss: 0.4866 - accuracy: 0.7680 - val_loss: 0.4726 - val_accuracy: 0.7813\n",
      "\n",
      "Epoch 00020: val_accuracy did not improve from 0.78145\n",
      "\n",
      "Epoch 00020: ReduceLROnPlateau reducing learning rate to 1.0610752724460326e-05.\n",
      "Epoch 21/50\n",
      "\n",
      "Epoch 00021: LearningRateScheduler reducing learning rate to tf.Tensor(1.01947e-05, shape=(), dtype=float32).\n",
      "2514/2514 [==============================] - 5403s 2s/step - loss: 0.4861 - accuracy: 0.7697 - val_loss: 0.4735 - val_accuracy: 0.7811\n",
      "\n",
      "Epoch 00021: val_accuracy did not improve from 0.78145\n",
      "Epoch 22/50\n",
      "\n",
      "Epoch 00022: LearningRateScheduler reducing learning rate to tf.Tensor(9.7949605e-06, shape=(), dtype=float32).\n",
      "2514/2514 [==============================] - 5788s 2s/step - loss: 0.4838 - accuracy: 0.7704 - val_loss: 0.4684 - val_accuracy: 0.7829\n",
      "\n",
      "Epoch 00022: val_accuracy improved from 0.78145 to 0.78289, saving model to /Rifal/Model/STAD/Evaluate\\100%_STAD_Evaluate2.h5\n",
      "Epoch 23/50\n",
      "\n",
      "Epoch 00023: LearningRateScheduler reducing learning rate to tf.Tensor(9.4108955e-06, shape=(), dtype=float32).\n",
      "2514/2514 [==============================] - 6017s 2s/step - loss: 0.4837 - accuracy: 0.7714 - val_loss: 0.4685 - val_accuracy: 0.7840\n",
      "\n",
      "Epoch 00023: val_accuracy improved from 0.78289 to 0.78398, saving model to /Rifal/Model/STAD/Evaluate\\100%_STAD_Evaluate2.h5\n",
      "Epoch 24/50\n",
      "\n",
      "Epoch 00024: LearningRateScheduler reducing learning rate to tf.Tensor(9.04189e-06, shape=(), dtype=float32).\n"
     ]
    },
    {
     "name": "stdout",
     "output_type": "stream",
     "text": [
      "2514/2514 [==============================] - 6518s 3s/step - loss: 0.4856 - accuracy: 0.7680 - val_loss: 0.4678 - val_accuracy: 0.7837\n",
      "\n",
      "Epoch 00024: val_accuracy did not improve from 0.78398\n",
      "Epoch 25/50\n",
      "\n",
      "Epoch 00025: LearningRateScheduler reducing learning rate to tf.Tensor(8.687352e-06, shape=(), dtype=float32).\n",
      "2514/2514 [==============================] - 6431s 3s/step - loss: 0.4830 - accuracy: 0.7698 - val_loss: 0.4687 - val_accuracy: 0.7825\n",
      "\n",
      "Epoch 00025: val_accuracy did not improve from 0.78398\n",
      "Epoch 26/50\n",
      "\n",
      "Epoch 00026: LearningRateScheduler reducing learning rate to tf.Tensor(8.346717e-06, shape=(), dtype=float32).\n",
      "2514/2514 [==============================] - 5740s 2s/step - loss: 0.4799 - accuracy: 0.7728 - val_loss: 0.4704 - val_accuracy: 0.7821\n",
      "\n",
      "Epoch 00026: val_accuracy did not improve from 0.78398\n",
      "Epoch 27/50\n",
      "\n",
      "Epoch 00027: LearningRateScheduler reducing learning rate to tf.Tensor(8.019438e-06, shape=(), dtype=float32).\n",
      "2514/2514 [==============================] - 5714s 2s/step - loss: 0.4795 - accuracy: 0.7731 - val_loss: 0.4669 - val_accuracy: 0.7835\n",
      "\n",
      "Epoch 00027: val_accuracy did not improve from 0.78398\n",
      "Restoring model weights from the end of the best epoch.\n",
      "Epoch 00027: early stopping\n",
      "Total time:  100520.15928125381 seconds\n"
     ]
    }
   ],
   "source": [
    "import time\n",
    "\n",
    "start = time.time()\n",
    "history = model.fit(\n",
    "      train_generator,\n",
    "      steps_per_epoch = train_length // batch_size,\n",
    "      epochs=50,\n",
    "      validation_data = validation_generator,\n",
    "      validation_steps = val_length // batch_size + 1,\n",
    "      verbose=1,\n",
    "      callbacks=[callback])\n",
    "print(\"Total time: \", time.time() - start, \"seconds\")"
   ]
  },
  {
   "cell_type": "markdown",
   "metadata": {},
   "source": [
    "## **Evaluasi Model**"
   ]
  },
  {
   "cell_type": "code",
   "execution_count": 12,
   "metadata": {},
   "outputs": [
    {
     "name": "stdout",
     "output_type": "stream",
     "text": [
      "D:\\Rifal\\Model\\STAD\n"
     ]
    }
   ],
   "source": [
    "%cd D:/Rifal/Hasil/STAD/S0"
   ]
  },
  {
   "cell_type": "markdown",
   "metadata": {},
   "source": [
    "### **Plot Akurasi Loss**"
   ]
  },
  {
   "cell_type": "code",
   "execution_count": 13,
   "metadata": {},
   "outputs": [
    {
     "data": {
      "image/png": "[encoded data removed]",
      "text/plain": [
       "<Figure size 432x288 with 1 Axes>"
      ]
     },
     "metadata": {},
     "output_type": "display_data"
    },
    {
     "data": {
      "image/png": "[encoded data removed]",
      "text/plain": [
       "<Figure size 432x288 with 1 Axes>"
      ]
     },
     "metadata": {},
     "output_type": "display_data"
    }
   ],
   "source": [
    "%matplotlib inline\n",
    "\n",
    "plt.style.use(\"ggplot\")\n",
    "plt.figure()\n",
    "plt.plot(np.arange(0, len(history.history['val_accuracy'])), history.history[\"loss\"], label=\"train_loss\")\n",
    "plt.plot(np.arange(0, len(history.history['val_accuracy'])), history.history[\"val_loss\"], label=\"val_loss\")\n",
    "plt.title(\"Loss Plot\")\n",
    "plt.xlabel(\"Epoch #\")\n",
    "plt.ylabel(\"Loss\")\n",
    "plt.legend()\n",
    "plt.savefig(\"100%_S0_LOSS.svg\")\n",
    "plt.show()\n",
    "\n",
    "plt.style.use(\"ggplot\")\n",
    "plt.figure()\n",
    "plt.plot(np.arange(0, len(history.history['val_accuracy'])), history.history[\"accuracy\"], label=\"train_acc\")\n",
    "plt.plot(np.arange(0, len(history.history['val_accuracy'])), history.history[\"val_accuracy\"], label=\"val_acc\")\n",
    "plt.title(\"Accuracy Plot\")\n",
    "plt.xlabel(\"Epoch #\")\n",
    "plt.ylabel(\"Acc\")\n",
    "plt.legend()\n",
    "plt.savefig(\"100%_S0_ACC.svg\")\n",
    "plt.show()"
   ]
  },
  {
   "cell_type": "markdown",
   "metadata": {},
   "source": [
    "### **Train**"
   ]
  },
  {
   "cell_type": "code",
   "execution_count": 11,
   "metadata": {},
   "outputs": [
    {
     "name": "stdout",
     "output_type": "stream",
     "text": [
      "2515/2515 [==============================] - 632s 250ms/step - loss: 0.4976 - accuracy: 0.7656\n",
      "\n",
      " Hasil Akurasi Train:- 0.7656483054161072  Hasil Loss Train 0.49758583307266235\n"
     ]
    }
   ],
   "source": [
    "result_train = model.evaluate(train_generator, verbose=1)\n",
    "print('\\n', 'Hasil Akurasi Train:-', result_train[1],\" Hasil Loss Train\", result_train[0])"
   ]
  },
  {
   "cell_type": "markdown",
   "metadata": {},
   "source": [
    "### **Validasi**"
   ]
  },
  {
   "cell_type": "code",
   "execution_count": 12,
   "metadata": {},
   "outputs": [
    {
     "name": "stdout",
     "output_type": "stream",
     "text": [
      "629/629 [==============================] - 173s 275ms/step - loss: 0.5021 - accuracy: 0.7638\n",
      "\n",
      " Hasil Akurasi Val:- 0.7637963891029358  Hasil Loss Val 0.5021129846572876\n"
     ]
    }
   ],
   "source": [
    "result_val = model.evaluate(validation_generator, verbose=1)\n",
    "print('\\n', 'Hasil Akurasi Val:-', result_val[1],\" Hasil Loss Val\", result_val[0])"
   ]
  },
  {
   "cell_type": "markdown",
   "metadata": {},
   "source": [
    "### **Confusion Matrix**"
   ]
  },
  {
   "cell_type": "code",
   "execution_count": 13,
   "metadata": {},
   "outputs": [
    {
     "name": "stdout",
     "output_type": "stream",
     "text": [
      "Confusion Matrix\n",
      "[[7998 2059]\n",
      " [2690 7367]]\n"
     ]
    }
   ],
   "source": [
    "from sklearn.metrics import classification_report, confusion_matrix\n",
    "\n",
    "y_true_val = validation_generator.classes\n",
    "y_pred = np.round(model.predict(validation_generator),0)\n",
    "\n",
    "print('Confusion Matrix')\n",
    "print(confusion_matrix(y_true_val, y_pred))"
   ]
  },
  {
   "cell_type": "markdown",
   "metadata": {},
   "source": [
    "### **Classification Report**"
   ]
  },
  {
   "cell_type": "code",
   "execution_count": 14,
   "metadata": {},
   "outputs": [
    {
     "name": "stdout",
     "output_type": "stream",
     "text": [
      "Classification Report\n",
      "              precision    recall  f1-score   support\n",
      "\n",
      "         MSI       0.75      0.80      0.77     10057\n",
      "         MSS       0.78      0.73      0.76     10057\n",
      "\n",
      "    accuracy                           0.76     20114\n",
      "   macro avg       0.76      0.76      0.76     20114\n",
      "weighted avg       0.76      0.76      0.76     20114\n",
      "\n"
     ]
    }
   ],
   "source": [
    "print('Classification Report')\n",
    "\n",
    "target_names = ['MSI', 'MSS']\n",
    "print(classification_report(y_true_val, y_pred, target_names=target_names, zero_division=1))"
   ]
  },
  {
   "cell_type": "markdown",
   "metadata": {},
   "source": [
    "### **AUC**"
   ]
  },
  {
   "cell_type": "code",
   "execution_count": 15,
   "metadata": {},
   "outputs": [
    {
     "data": {
      "image/png": "[encoded data removed]",
      "text/plain": [
       "<Figure size 432x288 with 1 Axes>"
      ]
     },
     "metadata": {
      "needs_background": "light"
     },
     "output_type": "display_data"
    }
   ],
   "source": [
    "from sklearn.metrics import  precision_recall_curve, auc, roc_curve, roc_auc_score\n",
    "\n",
    "fpr, tpr, _ = roc_curve(y_true_val, y_pred)\n",
    "roc_auc = auc(fpr, tpr)\n",
    "\n",
    "plt.figure()\n",
    "lw = 2\n",
    "plt.plot(fpr, tpr, color='#ffba93',\n",
    "         lw=lw, label='ROC curve (area = %0.3f)' % roc_auc)\n",
    "plt.plot([0, 1], [0, 1], color='#7579e7', lw=lw, linestyle='--')\n",
    "plt.xlim([0.0, 1.0])\n",
    "plt.ylim([0.0, 1.05])\n",
    "plt.xlabel('False Positive Rate')\n",
    "plt.ylabel('True Positive Rate')\n",
    "plt.title('ROC Curve Skenario Model 3')\n",
    "plt.legend(loc=\"lower right\")\n",
    "plt.savefig(\"100%_S0_AUC.svg\")\n",
    "plt.show()"
   ]
  },
  {
   "cell_type": "code",
   "execution_count": 16,
   "metadata": {},
   "outputs": [
    {
     "name": "stdout",
     "output_type": "stream",
     "text": [
      "AUC Score Skenario Model 0 =  0.764\n"
     ]
    }
   ],
   "source": [
    "auc_score = roc_auc_score(y_true_val, y_pred)\n",
    "fpr, tpr, th = roc_curve(y_true_val, y_pred)\n",
    "print('AUC Score Skenario Model 0 = ', round(auc_score, 3))"
   ]
  },
  {
   "cell_type": "markdown",
   "metadata": {},
   "source": [
    "## **Save**"
   ]
  },
  {
   "cell_type": "code",
   "execution_count": 9,
   "metadata": {},
   "outputs": [
    {
     "name": "stdout",
     "output_type": "stream",
     "text": [
      "D:\\Rifal\\Model\\STAD\\S0\n"
     ]
    }
   ],
   "source": [
    "%cd D:/Rifal/Hasil/STAD/S0"
   ]
  },
  {
   "cell_type": "code",
   "execution_count": 14,
   "metadata": {},
   "outputs": [],
   "source": [
    "from keras.models import load_model\n",
    "\n",
    "#Save\n",
    "model.save('100%_S0.h5')"
   ]
  },
  {
   "cell_type": "code",
   "execution_count": 10,
   "metadata": {},
   "outputs": [],
   "source": [
    "from keras.models import load_model\n",
    "model = load_model('100%_S0.h5')"
   ]
  },
  {
   "cell_type": "code",
   "execution_count": null,
   "metadata": {},
   "outputs": [],
   "source": []
  }
 ],
 "metadata": {
  "kernelspec": {
   "display_name": "Python 3",
   "language": "python",
   "name": "python3"
  },
  "language_info": {
   "codemirror_mode": {
    "name": "ipython",
    "version": 3
   },
   "file_extension": ".py",
   "mimetype": "text/x-python",
   "name": "python",
   "nbconvert_exporter": "python",
   "pygments_lexer": "ipython3",
   "version": "3.7.10"
  }
 },
 "nbformat": 4,
 "nbformat_minor": 2
}
